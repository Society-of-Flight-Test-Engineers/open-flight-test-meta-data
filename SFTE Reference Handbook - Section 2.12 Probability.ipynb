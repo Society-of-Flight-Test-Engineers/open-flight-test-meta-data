{
 "cells": [
  {
   "cell_type": "markdown",
   "metadata": {},
   "source": [
    "# Section 2.12 - Probability (SFTE Reference Handbook)"
   ]
  },
  {
   "cell_type": "markdown",
   "metadata": {},
   "source": [
    "### Definition 1: Probability\n",
    "*Probability is the study of random variables. It is also the chance of a given outcome.*\n",
    "\n",
    "Common examples | Engineering examples\n",
    "--- | ---\n",
    "Flipping a coin | Probability of mechanical or engine failure\n",
    "Dealing a hand of cards | Probability of a hazard (flying and test safety)\n",
    "\n",
    "#### Application: Flight or Test Safety\n",
    "When performing a test hazard analysis (THA) in preparation for a flight test, we examine the potential hazards associated with a given system, the probability of that hazard occurring, and the severity of the hazard’s outcome. Engine failure is one such hazard.  In this case, we normally express the probability in terms of number of engine failures per million hours."
   ]
  },
  {
   "cell_type": "markdown",
   "metadata": {},
   "source": [
    "### Definition 2: Population\n",
    "*The population is the set of all possible outcomes or observations.*\n",
    "\n",
    "| Common examples |\n",
    "| :---: |\n",
    "| The set of all possible outcomes of a single flip of a coin includes heads and tails and may be represented {H, T} | \n",
    "| For dealing a single card from a deck of playing cards, there are 52 possible outcomes: 2 to 10, Jack, Queen, King, and Ace of each suit.|\n",
    "\n",
    "#### Application: Flight or Test Safety\n",
    "Continuing the example above, engine failure is a test safety hazard.  In this case, we normally express the probability in terms of number of engine failures per million hours.  The *population* is all possible times from $t=0$ to $t =\\infty$. "
   ]
  }
 ],
 "metadata": {
  "kernelspec": {
   "display_name": "Python 3",
   "language": "python",
   "name": "python3"
  },
  "language_info": {
   "codemirror_mode": {
    "name": "ipython",
    "version": 3
   },
   "file_extension": ".py",
   "mimetype": "text/x-python",
   "name": "python",
   "nbconvert_exporter": "python",
   "pygments_lexer": "ipython3",
   "version": "3.6.3"
  }
 },
 "nbformat": 4,
 "nbformat_minor": 2
}
